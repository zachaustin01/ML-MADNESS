{
 "cells": [
  {
   "cell_type": "code",
   "execution_count": 3,
   "metadata": {},
   "outputs": [],
   "source": [
    "import requests\n",
    "import pandas as pd"
   ]
  },
  {
   "cell_type": "code",
   "execution_count": 6,
   "metadata": {},
   "outputs": [],
   "source": [
    "req_url = \"https://api.actionnetwork.com/web/v1/scoreboard/ncaab?period=game&bookIds=15,30,471,68,71,76,75,123,69,972,247,79&division=D1&date=20221227&tournament=0\"\n",
    "head = {\n",
    "    \"Host\" : \"api.actionnetwork.com\",\n",
    "    \"User-Agent\" : \"Mozilla/5.0 (Windows NT 10.0; Win64; x64) AppleWebKit/537.36 (KHTML, like Gecko) Chrome/100.0.4896.127 Safari/537.36 OPR/86.0.4363.59\",\n",
    "    \"Accept\" : \"application/json\",\n",
    "    \"Accept-Language\" : \"en-US,en;q=0.9\",\n",
    "    \"Accept-Encoding\" : \"gzip\",\n",
    "    \"Referer\" : \"https://www.actionnetwork.com/ncaab/odds\",\n",
    "    \"Content-Type\" : \"application/json; charset=utf-8\",\n",
    "    \"Origin\" : \"https://www.actionnetwork.com\",\n",
    "    \"DNT\" : \"1\",\n",
    "    \"Connection\" : \"keep-alive\",\n",
    "    \"Sec-Fetch-Dest\" :\"empty\",\n",
    "    \"Sec-Fetch-Mode\" :\"cors\",\n",
    "    \"Sec-Fetch-Site\" :\"same-site\",\n",
    "    \"TE\" : \"trailers\"\n",
    "}\n",
    "\n",
    "x = requests.get(req_url, headers = head).json()"
   ]
  },
  {
   "cell_type": "code",
   "execution_count": 10,
   "metadata": {},
   "outputs": [],
   "source": [
    "metadata = x['league'].keys()"
   ]
  },
  {
   "cell_type": "code",
   "execution_count": 18,
   "metadata": {},
   "outputs": [],
   "source": [
    "game_data = x['games']\n",
    "team_data = x['games'][0]['teams']"
   ]
  },
  {
   "cell_type": "code",
   "execution_count": 55,
   "metadata": {},
   "outputs": [],
   "source": [
    "# Boxscores\n",
    "seasons = list(range(2006,2023+1))\n",
    "bs = []\n",
    "for season in seasons:\n",
    "    bs.append(\n",
    "        pd.read_csv(\n",
    "            f'C:/Users/zacha/OneDrive/Documents/GitHub/mbb-data-lake/raw/box/bs_{season}.csv',\n",
    "            encoding = \"utf-8\"\n",
    "        )\n",
    "    )"
   ]
  },
  {
   "cell_type": "code",
   "execution_count": 56,
   "metadata": {},
   "outputs": [],
   "source": [
    "all_boxscores = pd.concat(bs)"
   ]
  },
  {
   "cell_type": "code",
   "execution_count": 59,
   "metadata": {},
   "outputs": [],
   "source": [
    "all_boxscores.to_csv('C:/Users/zacha/OneDrive/Documents/GitHub/mbb-data-lake/raw/box/bs_ALL.csv',index = False)"
   ]
  }
 ],
 "metadata": {
  "kernelspec": {
   "display_name": "Python 3.10.0 ('.venv': venv)",
   "language": "python",
   "name": "python3"
  },
  "language_info": {
   "codemirror_mode": {
    "name": "ipython",
    "version": 3
   },
   "file_extension": ".py",
   "mimetype": "text/x-python",
   "name": "python",
   "nbconvert_exporter": "python",
   "pygments_lexer": "ipython3",
   "version": "3.10.0"
  },
  "orig_nbformat": 4,
  "vscode": {
   "interpreter": {
    "hash": "ff3f6859e450df866e91d1f28f800374f418df152c26971208d476aab286e2bb"
   }
  }
 },
 "nbformat": 4,
 "nbformat_minor": 2
}
