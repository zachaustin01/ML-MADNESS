{
 "cells": [
  {
   "cell_type": "code",
   "execution_count": 1,
   "id": "2168238d-40ab-46f5-9ec7-dcd49490036f",
   "metadata": {
    "tags": []
   },
   "outputs": [
    {
     "name": "stderr",
     "output_type": "stream",
     "text": [
      "Loading required package: stringr\n",
      "\n"
     ]
    }
   ],
   "source": [
    "require(stringr)\n",
    "project_name = 'ML-MADNESS'\n",
    "repo_path = file.path(substr(getwd(),0,gregexpr(pattern = project_name ,\n",
    "                                                getwd())[[1]][1]-2),\n",
    "                      project_name)\n",
    "setwd(repo_path)"
   ]
  },
  {
   "cell_type": "code",
   "execution_count": 24,
   "id": "e6dd29ba-e368-45e8-a0c2-aa88e3bf58ae",
   "metadata": {
    "tags": []
   },
   "outputs": [
    {
     "name": "stderr",
     "output_type": "stream",
     "text": [
      "\n",
      "Attaching package: ‘lubridate’\n",
      "\n",
      "\n",
      "The following objects are masked from ‘package:base’:\n",
      "\n",
      "    date, intersect, setdiff, union\n",
      "\n",
      "\n"
     ]
    }
   ],
   "source": [
    "source(file.path(repo_path,'objects','helper_functions.R'))\n",
    "p = scan(file.path(repo_path,'features/requirements.txt'),what=\"\",sep=\"\\n\")\n",
    "load_all_packages(p)\n",
    "p = scan(file.path(repo_path,'sagemaker/requirements.txt'),what=\"\",sep=\"\\n\")\n",
    "load_all_packages(p)\n",
    "slice = dplyr::slice\n",
    "rename = dplyr::rename"
   ]
  },
  {
   "cell_type": "code",
   "execution_count": 3,
   "id": "b7dccf60-f2d7-4825-bcb3-e07568dd9ba8",
   "metadata": {
    "tags": []
   },
   "outputs": [],
   "source": [
    "# Sagemaker Settings\n",
    "sagemaker <- import('sagemaker')\n",
    "session <- sagemaker$Session()\n",
    "bucket <- session$default_bucket()\n",
    "role_arn <- sagemaker$get_execution_role()"
   ]
  },
  {
   "cell_type": "code",
   "execution_count": 4,
   "id": "bf0fd4d3-e1b7-4a68-858a-605e37ff20f3",
   "metadata": {
    "tags": []
   },
   "outputs": [],
   "source": [
    "source(file.path(repo_path,'features','api_calls.r'))"
   ]
  },
  {
   "cell_type": "code",
   "execution_count": 17,
   "id": "b4b7a1c1-1931-46f5-8206-6e3622311ffa",
   "metadata": {
    "tags": []
   },
   "outputs": [],
   "source": [
    "source(file.path(repo_path,'features','modeling.r'))\n",
    "boxscores = load_box_score_data()"
   ]
  },
  {
   "cell_type": "code",
   "execution_count": 30,
   "id": "d9a557c8-5bad-4b78-a85f-b8ef97931d19",
   "metadata": {
    "tags": []
   },
   "outputs": [],
   "source": [
    "all_team_data = initial_cleaning(boxscores)"
   ]
  },
  {
   "cell_type": "code",
   "execution_count": 33,
   "id": "7c513e74-d767-41c3-bf6a-06f238441224",
   "metadata": {
    "tags": []
   },
   "outputs": [
    {
     "name": "stderr",
     "output_type": "stream",
     "text": [
      "\u001b[1m\u001b[22m`summarise()` has grouped output by 'team_id'. You can override using the\n",
      "`.groups` argument.\n"
     ]
    }
   ],
   "source": [
    "team_info = all_team_data %>%\n",
    "  ungroup() %>% \n",
    "  select(team_id,team_display_name.x) %>% \n",
    "  group_by(team_id,team_display_name.x) %>% \n",
    "  summarize(APPEARANCES = n()) %>% \n",
    "  rename(\"team_name\" = \"team_display_name.x\") %>% \n",
    "  arrange(desc(APPEARANCES))\n",
    "\n",
    "team_data_refined = all_team_data %>% \n",
    "  ungroup() %>% \n",
    "  select(-c(team_display_name.x,team_display_name.y))"
   ]
  },
  {
   "cell_type": "code",
   "execution_count": 34,
   "id": "ce6516d7-a742-40fb-8606-9687cfefd0e6",
   "metadata": {
    "tags": []
   },
   "outputs": [],
   "source": [
    "source(file.path(repo_path,'features','elo_helper.r'))"
   ]
  },
  {
   "cell_type": "code",
   "execution_count": null,
   "id": "a715cd17-cf82-48c3-a17a-2901bf9ed575",
   "metadata": {
    "tags": []
   },
   "outputs": [
    {
     "name": "stderr",
     "output_type": "stream",
     "text": [
      "Warning message:\n",
      "“\u001b[1m\u001b[22mUsing an external vector in selections was deprecated in tidyselect 1.1.0.\n",
      "\u001b[36mℹ\u001b[39m Please use `all_of()` or `any_of()` instead.\n",
      "  # Was:\n",
      "  data %>% select(columns)\n",
      "\n",
      "  # Now:\n",
      "  data %>% select(all_of(columns))\n",
      "\n",
      "See <https://tidyselect.r-lib.org/reference/faq-external-vector.html>.”\n"
     ]
    }
   ],
   "source": [
    "df = calculate_relative_elo(team_data_refined = team_data_refined,\n",
    "                            feature = \"PTS.x\",\n",
    "                            season = 2022,\n",
    "                            rename_f = \"PTS_SCORED\")"
   ]
  }
 ],
 "metadata": {
  "kernelspec": {
   "display_name": "R",
   "language": "R",
   "name": "ir"
  },
  "language_info": {
   "codemirror_mode": "r",
   "file_extension": ".r",
   "mimetype": "text/x-r-source",
   "name": "R",
   "pygments_lexer": "r",
   "version": "4.2.2"
  }
 },
 "nbformat": 4,
 "nbformat_minor": 5
}
