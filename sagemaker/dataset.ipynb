{
 "cells": [
  {
   "cell_type": "code",
   "execution_count": 19,
   "id": "2168238d-40ab-46f5-9ec7-dcd49490036f",
   "metadata": {},
   "outputs": [],
   "source": [
    "require(stringr)\n",
    "project_name = 'ML-MADNESS'\n",
    "repo_path = file.path(substr(getwd(),0,gregexpr(pattern = project_name ,\n",
    "                                                getwd())[[1]][1]-2),\n",
    "                      project_name)\n",
    "setwd(repo_path)"
   ]
  },
  {
   "cell_type": "code",
   "execution_count": 22,
   "id": "e6dd29ba-e368-45e8-a0c2-aa88e3bf58ae",
   "metadata": {
    "tags": []
   },
   "outputs": [
    {
     "name": "stderr",
     "output_type": "stream",
     "text": [
      "Warning message in file(filename, \"r\", encoding = encoding):\n",
      "“cannot open file '/home/ec2-user/SageMaker/ML-MADNESS/objects/helper_functions.r': No such file or directory”\n"
     ]
    },
    {
     "ename": "ERROR",
     "evalue": "Error in file(filename, \"r\", encoding = encoding): cannot open the connection\n",
     "output_type": "error",
     "traceback": [
      "Error in file(filename, \"r\", encoding = encoding): cannot open the connection\nTraceback:\n",
      "1. source(file.path(repo_path, \"objects\", \"load_directories.R\"))",
      "2. withVisible(eval(ei, envir))",
      "3. eval(ei, envir)",
      "4. eval(ei, envir)",
      "5. source(file.path(object_path, \"helper_functions.r\"))",
      "6. file(filename, \"r\", encoding = encoding)"
     ]
    }
   ],
   "source": [
    "source(file.path(repo_path,'objects','helper_functions.R'))\n",
    "source(file.path(repo_path,'objects','load_directories.R'))\n",
    "p = scan(file.path(repo_path,'features/requirements.txt'),what=\"\",sep=\"\\n\")\n",
    "load_all_packages(p)\n",
    "p = scan(file.path(repo_path,'sagemaker/requirements.txt'),what=\"\",sep=\"\\n\")\n",
    "load_all_packages(p)\n",
    "slice = dplyr::slice\n",
    "rename = dplyr::rename"
   ]
  },
  {
   "cell_type": "code",
   "execution_count": 16,
   "id": "b4b7a1c1-1931-46f5-8206-6e3622311ffa",
   "metadata": {
    "tags": []
   },
   "outputs": [
    {
     "data": {
      "text/html": [
       "'/home/ec2-user/SageMaker/ML-MADNESS'"
      ],
      "text/latex": [
       "'/home/ec2-user/SageMaker/ML-MADNESS'"
      ],
      "text/markdown": [
       "'/home/ec2-user/SageMaker/ML-MADNESS'"
      ],
      "text/plain": [
       "[1] \"/home/ec2-user/SageMaker/ML-MADNESS\""
      ]
     },
     "metadata": {},
     "output_type": "display_data"
    }
   ],
   "source": []
  }
 ],
 "metadata": {
  "kernelspec": {
   "display_name": "R",
   "language": "R",
   "name": "ir"
  },
  "language_info": {
   "codemirror_mode": "r",
   "file_extension": ".r",
   "mimetype": "text/x-r-source",
   "name": "R",
   "pygments_lexer": "r",
   "version": "4.2.2"
  }
 },
 "nbformat": 4,
 "nbformat_minor": 5
}
