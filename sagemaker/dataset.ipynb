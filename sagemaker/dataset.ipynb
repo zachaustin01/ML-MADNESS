{
 "cells": [
  {
   "cell_type": "code",
   "execution_count": 1,
   "id": "2168238d-40ab-46f5-9ec7-dcd49490036f",
   "metadata": {
    "tags": []
   },
   "outputs": [
    {
     "name": "stderr",
     "output_type": "stream",
     "text": [
      "Loading required package: stringr\n",
      "\n"
     ]
    }
   ],
   "source": [
    "require(stringr)\n",
    "project_name = 'ML-MADNESS'\n",
    "repo_path = file.path(substr(getwd(),0,gregexpr(pattern = project_name ,\n",
    "                                                getwd())[[1]][1]-2),\n",
    "                      project_name)\n",
    "setwd(repo_path)"
   ]
  },
  {
   "cell_type": "code",
   "execution_count": 24,
   "id": "e6dd29ba-e368-45e8-a0c2-aa88e3bf58ae",
   "metadata": {
    "tags": []
   },
   "outputs": [
    {
     "name": "stderr",
     "output_type": "stream",
     "text": [
      "\n",
      "Attaching package: ‘lubridate’\n",
      "\n",
      "\n",
      "The following objects are masked from ‘package:base’:\n",
      "\n",
      "    date, intersect, setdiff, union\n",
      "\n",
      "\n"
     ]
    }
   ],
   "source": [
    "source(file.path(repo_path,'objects','helper_functions.R'))\n",
    "p = scan(file.path(repo_path,'features/requirements.txt'),what=\"\",sep=\"\\n\")\n",
    "load_all_packages(p)\n",
    "p = scan(file.path(repo_path,'sagemaker/requirements.txt'),what=\"\",sep=\"\\n\")\n",
    "load_all_packages(p)\n",
    "slice = dplyr::slice\n",
    "rename = dplyr::rename"
   ]
  },
  {
   "cell_type": "code",
   "execution_count": 3,
   "id": "b7dccf60-f2d7-4825-bcb3-e07568dd9ba8",
   "metadata": {
    "tags": []
   },
   "outputs": [],
   "source": [
    "# Sagemaker Settings\n",
    "sagemaker <- import('sagemaker')\n",
    "session <- sagemaker$Session()\n",
    "bucket <- session$default_bucket()\n",
    "role_arn <- sagemaker$get_execution_role()"
   ]
  },
  {
   "cell_type": "code",
   "execution_count": 4,
   "id": "bf0fd4d3-e1b7-4a68-858a-605e37ff20f3",
   "metadata": {
    "tags": []
   },
   "outputs": [],
   "source": [
    "source(file.path(repo_path,'features','api_calls.r'))"
   ]
  },
  {
   "cell_type": "code",
   "execution_count": 17,
   "id": "b4b7a1c1-1931-46f5-8206-6e3622311ffa",
   "metadata": {
    "tags": []
   },
   "outputs": [],
   "source": [
    "source(file.path(repo_path,'features','modeling.r'))\n",
    "boxscores = load_box_score_data()"
   ]
  },
  {
   "cell_type": "code",
   "execution_count": 30,
   "id": "d9a557c8-5bad-4b78-a85f-b8ef97931d19",
   "metadata": {
    "tags": []
   },
   "outputs": [],
   "source": [
    "all_team_data = initial_cleaning(boxscores)"
   ]
  },
  {
   "cell_type": "code",
   "execution_count": 33,
   "id": "7c513e74-d767-41c3-bf6a-06f238441224",
   "metadata": {
    "tags": []
   },
   "outputs": [
    {
     "name": "stderr",
     "output_type": "stream",
     "text": [
      "\u001b[1m\u001b[22m`summarise()` has grouped output by 'team_id'. You can override using the\n",
      "`.groups` argument.\n"
     ]
    }
   ],
   "source": [
    "team_info = all_team_data %>%\n",
    "  ungroup() %>% \n",
    "  select(team_id,team_display_name.x) %>% \n",
    "  group_by(team_id,team_display_name.x) %>% \n",
    "  summarize(APPEARANCES = n()) %>% \n",
    "  rename(\"team_name\" = \"team_display_name.x\") %>% \n",
    "  arrange(desc(APPEARANCES))\n",
    "\n",
    "team_data_refined = all_team_data %>% \n",
    "  ungroup() %>% \n",
    "  select(-c(team_display_name.x,team_display_name.y))"
   ]
  },
  {
   "cell_type": "code",
   "execution_count": 48,
   "id": "ce6516d7-a742-40fb-8606-9687cfefd0e6",
   "metadata": {
    "tags": []
   },
   "outputs": [],
   "source": [
    "source(file.path(repo_path,'features','elo_helper.r'))"
   ]
  },
  {
   "cell_type": "code",
   "execution_count": 53,
   "id": "a715cd17-cf82-48c3-a17a-2901bf9ed575",
   "metadata": {
    "tags": []
   },
   "outputs": [],
   "source": [
    "df = BOOSTED_calculate_relative_elo(team_data_refined = team_data_refined %>% \n",
    "                                filter(SEASON==2022),\n",
    "                            features = c(\"PTS.x\",\"PTS.y\"),\n",
    "                            rename_fs = c(\"PTS_SCORED\",\"PTS_ALLOWED\"))"
   ]
  },
  {
   "cell_type": "code",
   "execution_count": 54,
   "id": "552dcbd5-9172-4e39-a08c-ebe483446a3e",
   "metadata": {
    "tags": []
   },
   "outputs": [
    {
     "data": {
      "text/html": [
       "<table class=\"dataframe\">\n",
       "<caption>A tibble: 6 × 22</caption>\n",
       "<thead>\n",
       "\t<tr><th scope=col>game_date</th><th scope=col>game_id</th><th scope=col>team_id</th><th scope=col>opponent_id</th><th scope=col>APPEARANCE</th><th scope=col>OPP_APPEARANCE</th><th scope=col>PTS.x</th><th scope=col>PTS.y</th><th scope=col>PTS_SCORED_AVG</th><th scope=col>PTS_SCORED_SD</th><th scope=col>⋯</th><th scope=col>PTS_SCORED_DEF_ELO</th><th scope=col>PTS_SCORED_ELO_NEXT</th><th scope=col>PTS_SCORED_DEF_ELO_NEXT</th><th scope=col>PTS_ALLOWED_AVG</th><th scope=col>PTS_ALLOWED_SD</th><th scope=col>PTS_ALLOWED_PERF</th><th scope=col>PTS_ALLOWED_ELO</th><th scope=col>PTS_ALLOWED_DEF_ELO</th><th scope=col>PTS_ALLOWED_ELO_NEXT</th><th scope=col>PTS_ALLOWED_DEF_ELO_NEXT</th></tr>\n",
       "\t<tr><th scope=col>&lt;date&gt;</th><th scope=col>&lt;int&gt;</th><th scope=col>&lt;chr&gt;</th><th scope=col>&lt;chr&gt;</th><th scope=col>&lt;int&gt;</th><th scope=col>&lt;int&gt;</th><th scope=col>&lt;dbl&gt;</th><th scope=col>&lt;dbl&gt;</th><th scope=col>&lt;dbl&gt;</th><th scope=col>&lt;dbl&gt;</th><th scope=col>⋯</th><th scope=col>&lt;dbl&gt;</th><th scope=col>&lt;dbl&gt;</th><th scope=col>&lt;dbl&gt;</th><th scope=col>&lt;dbl&gt;</th><th scope=col>&lt;dbl&gt;</th><th scope=col>&lt;dbl&gt;</th><th scope=col>&lt;dbl&gt;</th><th scope=col>&lt;dbl&gt;</th><th scope=col>&lt;dbl&gt;</th><th scope=col>&lt;dbl&gt;</th></tr>\n",
       "</thead>\n",
       "<tbody>\n",
       "\t<tr><td>2022-04-02</td><td>401408634</td><td>222 </td><td>2305</td><td>38</td><td>39</td><td>65</td><td>81</td><td>67.85714</td><td>67.85714</td><td>⋯</td><td>2303.809</td><td>1434.775</td><td>2269.215</td><td>65.57143</td><td>65.57143</td><td> 0.23529412</td><td>1400.181</td><td>2303.809</td><td>1434.775</td><td>2269.215</td></tr>\n",
       "\t<tr><td>2022-04-02</td><td>401408634</td><td>2305</td><td>222 </td><td>39</td><td>38</td><td>81</td><td>65</td><td>74.75000</td><td>74.75000</td><td>⋯</td><td>2097.920</td><td>1822.469</td><td>2105.573</td><td>68.50000</td><td>68.50000</td><td>-0.05109489</td><td>1830.122</td><td>2097.920</td><td>1822.469</td><td>2105.573</td></tr>\n",
       "\t<tr><td>2022-04-03</td><td>401408635</td><td>153 </td><td>150 </td><td>38</td><td>39</td><td>81</td><td>77</td><td>67.85714</td><td>67.85714</td><td>⋯</td><td>2181.780</td><td>2089.144</td><td>2155.643</td><td>65.57143</td><td>65.57143</td><td> 0.17429194</td><td>2063.007</td><td>2181.780</td><td>2089.144</td><td>2155.643</td></tr>\n",
       "\t<tr><td>2022-04-03</td><td>401408635</td><td>150 </td><td>153 </td><td>39</td><td>38</td><td>77</td><td>81</td><td>74.75000</td><td>74.75000</td><td>⋯</td><td>1937.582</td><td>1833.482</td><td>1910.221</td><td>68.50000</td><td>68.50000</td><td> 0.18248175</td><td>1806.121</td><td>1937.582</td><td>1833.482</td><td>1910.221</td></tr>\n",
       "\t<tr><td>2022-04-05</td><td>401408636</td><td>153 </td><td>2305</td><td>39</td><td>40</td><td>69</td><td>72</td><td>74.75000</td><td>74.75000</td><td>⋯</td><td>2105.573</td><td>2096.808</td><td>2097.909</td><td>68.50000</td><td>68.50000</td><td> 0.05109489</td><td>2089.144</td><td>2105.573</td><td>2096.808</td><td>2097.909</td></tr>\n",
       "\t<tr><td>2022-04-05</td><td>401408636</td><td>2305</td><td>153 </td><td>40</td><td>39</td><td>72</td><td>69</td><td>72.00000</td><td>72.00000</td><td>⋯</td><td>2155.643</td><td>1818.254</td><td>2159.858</td><td>71.00000</td><td>71.00000</td><td>-0.02816901</td><td>1822.469</td><td>2155.643</td><td>1818.254</td><td>2159.858</td></tr>\n",
       "</tbody>\n",
       "</table>\n"
      ],
      "text/latex": [
       "A tibble: 6 × 22\n",
       "\\begin{tabular}{lllllllllllllllllllll}\n",
       " game\\_date & game\\_id & team\\_id & opponent\\_id & APPEARANCE & OPP\\_APPEARANCE & PTS.x & PTS.y & PTS\\_SCORED\\_AVG & PTS\\_SCORED\\_SD & ⋯ & PTS\\_SCORED\\_DEF\\_ELO & PTS\\_SCORED\\_ELO\\_NEXT & PTS\\_SCORED\\_DEF\\_ELO\\_NEXT & PTS\\_ALLOWED\\_AVG & PTS\\_ALLOWED\\_SD & PTS\\_ALLOWED\\_PERF & PTS\\_ALLOWED\\_ELO & PTS\\_ALLOWED\\_DEF\\_ELO & PTS\\_ALLOWED\\_ELO\\_NEXT & PTS\\_ALLOWED\\_DEF\\_ELO\\_NEXT\\\\\n",
       " <date> & <int> & <chr> & <chr> & <int> & <int> & <dbl> & <dbl> & <dbl> & <dbl> & ⋯ & <dbl> & <dbl> & <dbl> & <dbl> & <dbl> & <dbl> & <dbl> & <dbl> & <dbl> & <dbl>\\\\\n",
       "\\hline\n",
       "\t 2022-04-02 & 401408634 & 222  & 2305 & 38 & 39 & 65 & 81 & 67.85714 & 67.85714 & ⋯ & 2303.809 & 1434.775 & 2269.215 & 65.57143 & 65.57143 &  0.23529412 & 1400.181 & 2303.809 & 1434.775 & 2269.215\\\\\n",
       "\t 2022-04-02 & 401408634 & 2305 & 222  & 39 & 38 & 81 & 65 & 74.75000 & 74.75000 & ⋯ & 2097.920 & 1822.469 & 2105.573 & 68.50000 & 68.50000 & -0.05109489 & 1830.122 & 2097.920 & 1822.469 & 2105.573\\\\\n",
       "\t 2022-04-03 & 401408635 & 153  & 150  & 38 & 39 & 81 & 77 & 67.85714 & 67.85714 & ⋯ & 2181.780 & 2089.144 & 2155.643 & 65.57143 & 65.57143 &  0.17429194 & 2063.007 & 2181.780 & 2089.144 & 2155.643\\\\\n",
       "\t 2022-04-03 & 401408635 & 150  & 153  & 39 & 38 & 77 & 81 & 74.75000 & 74.75000 & ⋯ & 1937.582 & 1833.482 & 1910.221 & 68.50000 & 68.50000 &  0.18248175 & 1806.121 & 1937.582 & 1833.482 & 1910.221\\\\\n",
       "\t 2022-04-05 & 401408636 & 153  & 2305 & 39 & 40 & 69 & 72 & 74.75000 & 74.75000 & ⋯ & 2105.573 & 2096.808 & 2097.909 & 68.50000 & 68.50000 &  0.05109489 & 2089.144 & 2105.573 & 2096.808 & 2097.909\\\\\n",
       "\t 2022-04-05 & 401408636 & 2305 & 153  & 40 & 39 & 72 & 69 & 72.00000 & 72.00000 & ⋯ & 2155.643 & 1818.254 & 2159.858 & 71.00000 & 71.00000 & -0.02816901 & 1822.469 & 2155.643 & 1818.254 & 2159.858\\\\\n",
       "\\end{tabular}\n"
      ],
      "text/markdown": [
       "\n",
       "A tibble: 6 × 22\n",
       "\n",
       "| game_date &lt;date&gt; | game_id &lt;int&gt; | team_id &lt;chr&gt; | opponent_id &lt;chr&gt; | APPEARANCE &lt;int&gt; | OPP_APPEARANCE &lt;int&gt; | PTS.x &lt;dbl&gt; | PTS.y &lt;dbl&gt; | PTS_SCORED_AVG &lt;dbl&gt; | PTS_SCORED_SD &lt;dbl&gt; | ⋯ ⋯ | PTS_SCORED_DEF_ELO &lt;dbl&gt; | PTS_SCORED_ELO_NEXT &lt;dbl&gt; | PTS_SCORED_DEF_ELO_NEXT &lt;dbl&gt; | PTS_ALLOWED_AVG &lt;dbl&gt; | PTS_ALLOWED_SD &lt;dbl&gt; | PTS_ALLOWED_PERF &lt;dbl&gt; | PTS_ALLOWED_ELO &lt;dbl&gt; | PTS_ALLOWED_DEF_ELO &lt;dbl&gt; | PTS_ALLOWED_ELO_NEXT &lt;dbl&gt; | PTS_ALLOWED_DEF_ELO_NEXT &lt;dbl&gt; |\n",
       "|---|---|---|---|---|---|---|---|---|---|---|---|---|---|---|---|---|---|---|---|---|\n",
       "| 2022-04-02 | 401408634 | 222  | 2305 | 38 | 39 | 65 | 81 | 67.85714 | 67.85714 | ⋯ | 2303.809 | 1434.775 | 2269.215 | 65.57143 | 65.57143 |  0.23529412 | 1400.181 | 2303.809 | 1434.775 | 2269.215 |\n",
       "| 2022-04-02 | 401408634 | 2305 | 222  | 39 | 38 | 81 | 65 | 74.75000 | 74.75000 | ⋯ | 2097.920 | 1822.469 | 2105.573 | 68.50000 | 68.50000 | -0.05109489 | 1830.122 | 2097.920 | 1822.469 | 2105.573 |\n",
       "| 2022-04-03 | 401408635 | 153  | 150  | 38 | 39 | 81 | 77 | 67.85714 | 67.85714 | ⋯ | 2181.780 | 2089.144 | 2155.643 | 65.57143 | 65.57143 |  0.17429194 | 2063.007 | 2181.780 | 2089.144 | 2155.643 |\n",
       "| 2022-04-03 | 401408635 | 150  | 153  | 39 | 38 | 77 | 81 | 74.75000 | 74.75000 | ⋯ | 1937.582 | 1833.482 | 1910.221 | 68.50000 | 68.50000 |  0.18248175 | 1806.121 | 1937.582 | 1833.482 | 1910.221 |\n",
       "| 2022-04-05 | 401408636 | 153  | 2305 | 39 | 40 | 69 | 72 | 74.75000 | 74.75000 | ⋯ | 2105.573 | 2096.808 | 2097.909 | 68.50000 | 68.50000 |  0.05109489 | 2089.144 | 2105.573 | 2096.808 | 2097.909 |\n",
       "| 2022-04-05 | 401408636 | 2305 | 153  | 40 | 39 | 72 | 69 | 72.00000 | 72.00000 | ⋯ | 2155.643 | 1818.254 | 2159.858 | 71.00000 | 71.00000 | -0.02816901 | 1822.469 | 2155.643 | 1818.254 | 2159.858 |\n",
       "\n"
      ],
      "text/plain": [
       "  game_date  game_id   team_id opponent_id APPEARANCE OPP_APPEARANCE PTS.x\n",
       "1 2022-04-02 401408634 222     2305        38         39             65   \n",
       "2 2022-04-02 401408634 2305    222         39         38             81   \n",
       "3 2022-04-03 401408635 153     150         38         39             81   \n",
       "4 2022-04-03 401408635 150     153         39         38             77   \n",
       "5 2022-04-05 401408636 153     2305        39         40             69   \n",
       "6 2022-04-05 401408636 2305    153         40         39             72   \n",
       "  PTS.y PTS_SCORED_AVG PTS_SCORED_SD ⋯ PTS_SCORED_DEF_ELO PTS_SCORED_ELO_NEXT\n",
       "1 81    67.85714       67.85714      ⋯ 2303.809           1434.775           \n",
       "2 65    74.75000       74.75000      ⋯ 2097.920           1822.469           \n",
       "3 77    67.85714       67.85714      ⋯ 2181.780           2089.144           \n",
       "4 81    74.75000       74.75000      ⋯ 1937.582           1833.482           \n",
       "5 72    74.75000       74.75000      ⋯ 2105.573           2096.808           \n",
       "6 69    72.00000       72.00000      ⋯ 2155.643           1818.254           \n",
       "  PTS_SCORED_DEF_ELO_NEXT PTS_ALLOWED_AVG PTS_ALLOWED_SD PTS_ALLOWED_PERF\n",
       "1 2269.215                65.57143        65.57143        0.23529412     \n",
       "2 2105.573                68.50000        68.50000       -0.05109489     \n",
       "3 2155.643                65.57143        65.57143        0.17429194     \n",
       "4 1910.221                68.50000        68.50000        0.18248175     \n",
       "5 2097.909                68.50000        68.50000        0.05109489     \n",
       "6 2159.858                71.00000        71.00000       -0.02816901     \n",
       "  PTS_ALLOWED_ELO PTS_ALLOWED_DEF_ELO PTS_ALLOWED_ELO_NEXT\n",
       "1 1400.181        2303.809            1434.775            \n",
       "2 1830.122        2097.920            1822.469            \n",
       "3 2063.007        2181.780            2089.144            \n",
       "4 1806.121        1937.582            1833.482            \n",
       "5 2089.144        2105.573            2096.808            \n",
       "6 1822.469        2155.643            1818.254            \n",
       "  PTS_ALLOWED_DEF_ELO_NEXT\n",
       "1 2269.215                \n",
       "2 2105.573                \n",
       "3 2155.643                \n",
       "4 1910.221                \n",
       "5 2097.909                \n",
       "6 2159.858                "
      ]
     },
     "metadata": {},
     "output_type": "display_data"
    }
   ],
   "source": [
    "tail(df)"
   ]
  },
  {
   "cell_type": "code",
   "execution_count": 57,
   "id": "636c3aca-cc40-4308-aa94-ac2866aae9ea",
   "metadata": {
    "tags": []
   },
   "outputs": [
    {
     "data": {
      "text/html": [
       "<table class=\"dataframe\">\n",
       "<caption>A tibble: 6 × 12</caption>\n",
       "<thead>\n",
       "\t<tr><th scope=col>PTS.x</th><th scope=col>PTS.y</th><th scope=col>game_date</th><th scope=col>game_id</th><th scope=col>team_id</th><th scope=col>opponent_id</th><th scope=col>PTS_SCORED_ELO</th><th scope=col>PTS_SCORED_DEF_ELO</th><th scope=col>PTS_ALLOWED_ELO</th><th scope=col>PTS_ALLOWED_DEF_ELO</th><th scope=col>MARGIN</th><th scope=col>WIN</th></tr>\n",
       "\t<tr><th scope=col>&lt;dbl&gt;</th><th scope=col>&lt;dbl&gt;</th><th scope=col>&lt;date&gt;</th><th scope=col>&lt;int&gt;</th><th scope=col>&lt;chr&gt;</th><th scope=col>&lt;chr&gt;</th><th scope=col>&lt;dbl&gt;</th><th scope=col>&lt;dbl&gt;</th><th scope=col>&lt;dbl&gt;</th><th scope=col>&lt;dbl&gt;</th><th scope=col>&lt;dbl&gt;</th><th scope=col>&lt;dbl&gt;</th></tr>\n",
       "</thead>\n",
       "<tbody>\n",
       "\t<tr><td>65</td><td>81</td><td>2022-04-02</td><td>401408634</td><td>222 </td><td>2305</td><td>1400.181</td><td>2303.809</td><td>1400.181</td><td>2303.809</td><td>-16</td><td>0</td></tr>\n",
       "\t<tr><td>81</td><td>65</td><td>2022-04-02</td><td>401408634</td><td>2305</td><td>222 </td><td>1830.122</td><td>2097.920</td><td>1830.122</td><td>2097.920</td><td> 16</td><td>1</td></tr>\n",
       "\t<tr><td>81</td><td>77</td><td>2022-04-03</td><td>401408635</td><td>153 </td><td>150 </td><td>2063.007</td><td>2181.780</td><td>2063.007</td><td>2181.780</td><td>  4</td><td>1</td></tr>\n",
       "\t<tr><td>77</td><td>81</td><td>2022-04-03</td><td>401408635</td><td>150 </td><td>153 </td><td>1806.121</td><td>1937.582</td><td>1806.121</td><td>1937.582</td><td> -4</td><td>0</td></tr>\n",
       "\t<tr><td>69</td><td>72</td><td>2022-04-05</td><td>401408636</td><td>153 </td><td>2305</td><td>2089.144</td><td>2105.573</td><td>2089.144</td><td>2105.573</td><td> -3</td><td>0</td></tr>\n",
       "\t<tr><td>72</td><td>69</td><td>2022-04-05</td><td>401408636</td><td>2305</td><td>153 </td><td>1822.469</td><td>2155.643</td><td>1822.469</td><td>2155.643</td><td>  3</td><td>1</td></tr>\n",
       "</tbody>\n",
       "</table>\n"
      ],
      "text/latex": [
       "A tibble: 6 × 12\n",
       "\\begin{tabular}{llllllllllll}\n",
       " PTS.x & PTS.y & game\\_date & game\\_id & team\\_id & opponent\\_id & PTS\\_SCORED\\_ELO & PTS\\_SCORED\\_DEF\\_ELO & PTS\\_ALLOWED\\_ELO & PTS\\_ALLOWED\\_DEF\\_ELO & MARGIN & WIN\\\\\n",
       " <dbl> & <dbl> & <date> & <int> & <chr> & <chr> & <dbl> & <dbl> & <dbl> & <dbl> & <dbl> & <dbl>\\\\\n",
       "\\hline\n",
       "\t 65 & 81 & 2022-04-02 & 401408634 & 222  & 2305 & 1400.181 & 2303.809 & 1400.181 & 2303.809 & -16 & 0\\\\\n",
       "\t 81 & 65 & 2022-04-02 & 401408634 & 2305 & 222  & 1830.122 & 2097.920 & 1830.122 & 2097.920 &  16 & 1\\\\\n",
       "\t 81 & 77 & 2022-04-03 & 401408635 & 153  & 150  & 2063.007 & 2181.780 & 2063.007 & 2181.780 &   4 & 1\\\\\n",
       "\t 77 & 81 & 2022-04-03 & 401408635 & 150  & 153  & 1806.121 & 1937.582 & 1806.121 & 1937.582 &  -4 & 0\\\\\n",
       "\t 69 & 72 & 2022-04-05 & 401408636 & 153  & 2305 & 2089.144 & 2105.573 & 2089.144 & 2105.573 &  -3 & 0\\\\\n",
       "\t 72 & 69 & 2022-04-05 & 401408636 & 2305 & 153  & 1822.469 & 2155.643 & 1822.469 & 2155.643 &   3 & 1\\\\\n",
       "\\end{tabular}\n"
      ],
      "text/markdown": [
       "\n",
       "A tibble: 6 × 12\n",
       "\n",
       "| PTS.x &lt;dbl&gt; | PTS.y &lt;dbl&gt; | game_date &lt;date&gt; | game_id &lt;int&gt; | team_id &lt;chr&gt; | opponent_id &lt;chr&gt; | PTS_SCORED_ELO &lt;dbl&gt; | PTS_SCORED_DEF_ELO &lt;dbl&gt; | PTS_ALLOWED_ELO &lt;dbl&gt; | PTS_ALLOWED_DEF_ELO &lt;dbl&gt; | MARGIN &lt;dbl&gt; | WIN &lt;dbl&gt; |\n",
       "|---|---|---|---|---|---|---|---|---|---|---|---|\n",
       "| 65 | 81 | 2022-04-02 | 401408634 | 222  | 2305 | 1400.181 | 2303.809 | 1400.181 | 2303.809 | -16 | 0 |\n",
       "| 81 | 65 | 2022-04-02 | 401408634 | 2305 | 222  | 1830.122 | 2097.920 | 1830.122 | 2097.920 |  16 | 1 |\n",
       "| 81 | 77 | 2022-04-03 | 401408635 | 153  | 150  | 2063.007 | 2181.780 | 2063.007 | 2181.780 |   4 | 1 |\n",
       "| 77 | 81 | 2022-04-03 | 401408635 | 150  | 153  | 1806.121 | 1937.582 | 1806.121 | 1937.582 |  -4 | 0 |\n",
       "| 69 | 72 | 2022-04-05 | 401408636 | 153  | 2305 | 2089.144 | 2105.573 | 2089.144 | 2105.573 |  -3 | 0 |\n",
       "| 72 | 69 | 2022-04-05 | 401408636 | 2305 | 153  | 1822.469 | 2155.643 | 1822.469 | 2155.643 |   3 | 1 |\n",
       "\n"
      ],
      "text/plain": [
       "  PTS.x PTS.y game_date  game_id   team_id opponent_id PTS_SCORED_ELO\n",
       "1 65    81    2022-04-02 401408634 222     2305        1400.181      \n",
       "2 81    65    2022-04-02 401408634 2305    222         1830.122      \n",
       "3 81    77    2022-04-03 401408635 153     150         2063.007      \n",
       "4 77    81    2022-04-03 401408635 150     153         1806.121      \n",
       "5 69    72    2022-04-05 401408636 153     2305        2089.144      \n",
       "6 72    69    2022-04-05 401408636 2305    153         1822.469      \n",
       "  PTS_SCORED_DEF_ELO PTS_ALLOWED_ELO PTS_ALLOWED_DEF_ELO MARGIN WIN\n",
       "1 2303.809           1400.181        2303.809            -16    0  \n",
       "2 2097.920           1830.122        2097.920             16    1  \n",
       "3 2181.780           2063.007        2181.780              4    1  \n",
       "4 1937.582           1806.121        1937.582             -4    0  \n",
       "5 2105.573           2089.144        2105.573             -3    0  \n",
       "6 2155.643           1822.469        2155.643              3    1  "
      ]
     },
     "metadata": {},
     "output_type": "display_data"
    }
   ],
   "source": [
    "predictors = c('PTS_SCORED_ELO','PTS_SCORED_DEF_ELO','PTS_ALLOWED_ELO','PTS_ALLOWED_DEF_ELO')\n",
    "\n",
    "modeling = df %>% \n",
    "            filter(APPEARANCE!=1,\n",
    "            OPP_APPEARANCE!=1) %>%\n",
    "            select(PTS.x,PTS.y,game_date,game_id,team_id,opponent_id,predictors)%>%\n",
    "            mutate(MARGIN = PTS.x - PTS.y,\n",
    "                   WIN = ifelse(MARGIN >0,1,0))\n",
    "tail(modeling)"
   ]
  },
  {
   "cell_type": "code",
   "execution_count": 40,
   "id": "3216edf8-3987-4200-b5d3-e08491501572",
   "metadata": {
    "tags": []
   },
   "outputs": [
    {
     "data": {
      "text/html": [
       "<style>\n",
       ".list-inline {list-style: none; margin:0; padding: 0}\n",
       ".list-inline>li {display: inline-block}\n",
       ".list-inline>li:not(:last-child)::after {content: \"\\00b7\"; padding: 0 .5ex}\n",
       "</style>\n",
       "<ol class=list-inline><li>'game_date'</li><li>'game_id'</li><li>'team_id'</li><li>'opponent_id'</li><li>'APPEARANCE'</li><li>'OPP_APPEARANCE'</li><li>'PTS.x'</li><li>'F_AVG'</li><li>'F_SD'</li><li>'PERF'</li><li>'PTS_SCORED_ELO'</li><li>'PTS_SCORED_DEF_ELO'</li><li>'PTS_SCORED_ELO_NEXT'</li><li>'PTS_SCORED_DEF_ELO_NEXT'</li></ol>\n"
      ],
      "text/latex": [
       "\\begin{enumerate*}\n",
       "\\item 'game\\_date'\n",
       "\\item 'game\\_id'\n",
       "\\item 'team\\_id'\n",
       "\\item 'opponent\\_id'\n",
       "\\item 'APPEARANCE'\n",
       "\\item 'OPP\\_APPEARANCE'\n",
       "\\item 'PTS.x'\n",
       "\\item 'F\\_AVG'\n",
       "\\item 'F\\_SD'\n",
       "\\item 'PERF'\n",
       "\\item 'PTS\\_SCORED\\_ELO'\n",
       "\\item 'PTS\\_SCORED\\_DEF\\_ELO'\n",
       "\\item 'PTS\\_SCORED\\_ELO\\_NEXT'\n",
       "\\item 'PTS\\_SCORED\\_DEF\\_ELO\\_NEXT'\n",
       "\\end{enumerate*}\n"
      ],
      "text/markdown": [
       "1. 'game_date'\n",
       "2. 'game_id'\n",
       "3. 'team_id'\n",
       "4. 'opponent_id'\n",
       "5. 'APPEARANCE'\n",
       "6. 'OPP_APPEARANCE'\n",
       "7. 'PTS.x'\n",
       "8. 'F_AVG'\n",
       "9. 'F_SD'\n",
       "10. 'PERF'\n",
       "11. 'PTS_SCORED_ELO'\n",
       "12. 'PTS_SCORED_DEF_ELO'\n",
       "13. 'PTS_SCORED_ELO_NEXT'\n",
       "14. 'PTS_SCORED_DEF_ELO_NEXT'\n",
       "\n",
       "\n"
      ],
      "text/plain": [
       " [1] \"game_date\"               \"game_id\"                \n",
       " [3] \"team_id\"                 \"opponent_id\"            \n",
       " [5] \"APPEARANCE\"              \"OPP_APPEARANCE\"         \n",
       " [7] \"PTS.x\"                   \"F_AVG\"                  \n",
       " [9] \"F_SD\"                    \"PERF\"                   \n",
       "[11] \"PTS_SCORED_ELO\"          \"PTS_SCORED_DEF_ELO\"     \n",
       "[13] \"PTS_SCORED_ELO_NEXT\"     \"PTS_SCORED_DEF_ELO_NEXT\""
      ]
     },
     "metadata": {},
     "output_type": "display_data"
    }
   ],
   "source": []
  }
 ],
 "metadata": {
  "kernelspec": {
   "display_name": "R",
   "language": "R",
   "name": "ir"
  },
  "language_info": {
   "codemirror_mode": "r",
   "file_extension": ".r",
   "mimetype": "text/x-r-source",
   "name": "R",
   "pygments_lexer": "r",
   "version": "4.2.2"
  }
 },
 "nbformat": 4,
 "nbformat_minor": 5
}
